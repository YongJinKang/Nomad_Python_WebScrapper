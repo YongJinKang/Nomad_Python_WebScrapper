{
 "cells": [
  {
   "cell_type": "markdown",
   "metadata": {},
   "source": [
    "## Indeed와 StackoverFlow에서 원하는 채용공고 데이터 수집하기"
   ]
  },
  {
   "cell_type": "code",
   "execution_count": 11,
   "metadata": {},
   "outputs": [],
   "source": [
    "from ind_scrapper import get_jobs as get_indeed_jobs\n",
    "from so_scrapper import get_jobs as get_so_jobs\n",
    "import requests\n",
    "from save import save_to_file\n",
    "import pandas as pd"
   ]
  },
  {
   "cell_type": "markdown",
   "metadata": {},
   "source": [
    "## Indeed 사이트에서 원하는 단어를 검색했을 때 데이터 (직무, 회사, 위치, 구인링크) 출력"
   ]
  },
  {
   "cell_type": "code",
   "execution_count": 12,
   "metadata": {},
   "outputs": [
    {
     "output_type": "stream",
     "name": "stdout",
     "text": [
      "Scrapping Indeed page 0\n",
      "Scrapping Indeed page 1\n",
      "Scrapping Indeed page 2\n",
      "Scrapping Indeed page 3\n",
      "Scrapping Indeed page 4\n",
      "Scrapping Indeed page 5\n",
      "Scrapping Indeed page 6\n",
      "Scrapping Indeed page 7\n",
      "Scrapping Indeed page 8\n",
      "there is no company name\n",
      "Scrapping Indeed page 9\n",
      "Scrapping Indeed page 10\n",
      "Scrapping Indeed page 11\n",
      "Scrapping Indeed page 12\n",
      "Scrapping Indeed page 13\n",
      "Scrapping Indeed page 14\n",
      "there is no company name\n",
      "Scrapping Indeed page 15\n",
      "Scrapping Indeed page 16\n",
      "Scrapping Indeed page 17\n",
      "Scrapping Indeed page 18\n",
      "Scrapping Indeed page 19\n",
      "there is no company name\n"
     ]
    }
   ],
   "source": [
    "indeed_jobs = get_indeed_jobs('데이터 분석')\n",
    "# 파라미터에 원하는 단어 ex)데이터 분석 검색"
   ]
  },
  {
   "cell_type": "markdown",
   "metadata": {},
   "source": [
    "## StackoverFlow 사이트에서 Python 검색했을 시의 데이터(직무, 회사, 위치, 구인링크) 출력"
   ]
  },
  {
   "cell_type": "code",
   "execution_count": 13,
   "metadata": {},
   "outputs": [
    {
     "output_type": "stream",
     "name": "stdout",
     "text": [
      "Scrapping SO page 0\n",
      "Scrapping SO page 1\n",
      "Scrapping SO page 2\n",
      "Scrapping SO page 3\n",
      "Scrapping SO page 4\n",
      "Scrapping SO page 5\n",
      "Scrapping SO page 6\n",
      "Scrapping SO page 7\n",
      "Scrapping SO page 8\n",
      "Scrapping SO page 9\n",
      "Scrapping SO page 10\n",
      "Scrapping SO page 11\n",
      "Scrapping SO page 12\n",
      "Scrapping SO page 13\n",
      "Scrapping SO page 14\n",
      "Scrapping SO page 15\n",
      "Scrapping SO page 16\n",
      "Scrapping SO page 17\n",
      "Scrapping SO page 18\n",
      "Scrapping SO page 19\n",
      "Scrapping SO page 20\n",
      "Scrapping SO page 21\n"
     ]
    }
   ],
   "source": [
    "so_jobs =get_so_jobs('data analyst')\n",
    "# 파라미터에 원하는 단어 ex)data analyst 검색"
   ]
  },
  {
   "cell_type": "markdown",
   "metadata": {},
   "source": [
    "### 두사이트에서 추출한 데이터 병합"
   ]
  },
  {
   "cell_type": "code",
   "execution_count": 14,
   "metadata": {},
   "outputs": [],
   "source": [
    "jobs = so_jobs + indeed_jobs"
   ]
  },
  {
   "cell_type": "code",
   "execution_count": null,
   "metadata": {},
   "outputs": [],
   "source": [
    "jobs"
   ]
  },
  {
   "cell_type": "markdown",
   "metadata": {},
   "source": [
    "### 총 데이터 갯수"
   ]
  },
  {
   "cell_type": "code",
   "execution_count": 15,
   "metadata": {},
   "outputs": [
    {
     "output_type": "execute_result",
     "data": {
      "text/plain": [
       "1541"
      ]
     },
     "metadata": {},
     "execution_count": 15
    }
   ],
   "source": [
    "len(jobs)"
   ]
  },
  {
   "cell_type": "markdown",
   "metadata": {},
   "source": [
    "##  csv파일 형식으로 저장"
   ]
  },
  {
   "cell_type": "code",
   "execution_count": 16,
   "metadata": {},
   "outputs": [],
   "source": [
    "from save import save_to_file"
   ]
  },
  {
   "cell_type": "code",
   "execution_count": 17,
   "metadata": {},
   "outputs": [],
   "source": [
    "save_to_file(jobs)"
   ]
  },
  {
   "cell_type": "markdown",
   "metadata": {},
   "source": [
    "## 데이터 프레임으로 출력"
   ]
  },
  {
   "cell_type": "code",
   "execution_count": 18,
   "metadata": {},
   "outputs": [],
   "source": [
    "import pandas as pd\n",
    "df = pd.read_csv(\"jobs.csv\")"
   ]
  },
  {
   "cell_type": "code",
   "execution_count": 19,
   "metadata": {},
   "outputs": [
    {
     "output_type": "execute_result",
     "data": {
      "text/plain": [
       "                                                  title  \\\n",
       "0     Technical Co-Founder / CTO for a Machine Learn...   \n",
       "1                             Radio Algorithm Developer   \n",
       "2                  Senior Software Development Engineer   \n",
       "3       Software Engineering - Pyspark Development Lead   \n",
       "4                                  Oracle DBA/Developer   \n",
       "...                                                 ...   \n",
       "1536                                        JAVA 경력 정규직   \n",
       "1537                                     SEM Specialist   \n",
       "1538                                          데이터사이언티스트   \n",
       "1539  [쿠팡] Technical Program Management (Product Eng...   \n",
       "1540                                      모바일 게임 마케팅 전략   \n",
       "\n",
       "                        company             location  \\\n",
       "0               valora digital.  Zürich, Switzerland   \n",
       "1                      Ericsson    Stockholm, Sweden   \n",
       "2           Amazon Web Services          Seattle, WA   \n",
       "3     JPMorgan Chase Bank, N.A.     Hyderabad, India   \n",
       "4     JPMorgan Chase Bank, N.A.      Jersey City, NJ   \n",
       "...                         ...                  ...   \n",
       "1536                      밀라노상인               서울 금천구   \n",
       "1537                    Asiance                   서울   \n",
       "1538              Success Korea                   서울   \n",
       "1539                    Coupang                   서울   \n",
       "1540                유명 모바일 게임기업                  NaN   \n",
       "\n",
       "                                                   link  \n",
       "0                 https://stackoverflow.com/jobs/487470  \n",
       "1                 https://stackoverflow.com/jobs/438755  \n",
       "2                 https://stackoverflow.com/jobs/451634  \n",
       "3                 https://stackoverflow.com/jobs/487767  \n",
       "4                 https://stackoverflow.com/jobs/487740  \n",
       "...                                                 ...  \n",
       "1536  https://kr.indeed.com/%EC%B1%84%EC%9A%A9%EB%B3...  \n",
       "1537  https://kr.indeed.com/%EC%B1%84%EC%9A%A9%EB%B3...  \n",
       "1538  https://kr.indeed.com/%EC%B1%84%EC%9A%A9%EB%B3...  \n",
       "1539  https://kr.indeed.com/%EC%B1%84%EC%9A%A9%EB%B3...  \n",
       "1540  https://kr.indeed.com/%EC%B1%84%EC%9A%A9%EB%B3...  \n",
       "\n",
       "[1541 rows x 4 columns]"
      ],
      "text/html": "<div>\n<style scoped>\n    .dataframe tbody tr th:only-of-type {\n        vertical-align: middle;\n    }\n\n    .dataframe tbody tr th {\n        vertical-align: top;\n    }\n\n    .dataframe thead th {\n        text-align: right;\n    }\n</style>\n<table border=\"1\" class=\"dataframe\">\n  <thead>\n    <tr style=\"text-align: right;\">\n      <th></th>\n      <th>title</th>\n      <th>company</th>\n      <th>location</th>\n      <th>link</th>\n    </tr>\n  </thead>\n  <tbody>\n    <tr>\n      <th>0</th>\n      <td>Technical Co-Founder / CTO for a Machine Learn...</td>\n      <td>valora digital.</td>\n      <td>Zürich, Switzerland</td>\n      <td>https://stackoverflow.com/jobs/487470</td>\n    </tr>\n    <tr>\n      <th>1</th>\n      <td>Radio Algorithm Developer</td>\n      <td>Ericsson</td>\n      <td>Stockholm, Sweden</td>\n      <td>https://stackoverflow.com/jobs/438755</td>\n    </tr>\n    <tr>\n      <th>2</th>\n      <td>Senior Software Development Engineer</td>\n      <td>Amazon Web Services</td>\n      <td>Seattle, WA</td>\n      <td>https://stackoverflow.com/jobs/451634</td>\n    </tr>\n    <tr>\n      <th>3</th>\n      <td>Software Engineering - Pyspark Development Lead</td>\n      <td>JPMorgan Chase Bank, N.A.</td>\n      <td>Hyderabad, India</td>\n      <td>https://stackoverflow.com/jobs/487767</td>\n    </tr>\n    <tr>\n      <th>4</th>\n      <td>Oracle DBA/Developer</td>\n      <td>JPMorgan Chase Bank, N.A.</td>\n      <td>Jersey City, NJ</td>\n      <td>https://stackoverflow.com/jobs/487740</td>\n    </tr>\n    <tr>\n      <th>...</th>\n      <td>...</td>\n      <td>...</td>\n      <td>...</td>\n      <td>...</td>\n    </tr>\n    <tr>\n      <th>1536</th>\n      <td>JAVA 경력 정규직</td>\n      <td>밀라노상인</td>\n      <td>서울 금천구</td>\n      <td>https://kr.indeed.com/%EC%B1%84%EC%9A%A9%EB%B3...</td>\n    </tr>\n    <tr>\n      <th>1537</th>\n      <td>SEM Specialist</td>\n      <td>Asiance</td>\n      <td>서울</td>\n      <td>https://kr.indeed.com/%EC%B1%84%EC%9A%A9%EB%B3...</td>\n    </tr>\n    <tr>\n      <th>1538</th>\n      <td>데이터사이언티스트</td>\n      <td>Success Korea</td>\n      <td>서울</td>\n      <td>https://kr.indeed.com/%EC%B1%84%EC%9A%A9%EB%B3...</td>\n    </tr>\n    <tr>\n      <th>1539</th>\n      <td>[쿠팡] Technical Program Management (Product Eng...</td>\n      <td>Coupang</td>\n      <td>서울</td>\n      <td>https://kr.indeed.com/%EC%B1%84%EC%9A%A9%EB%B3...</td>\n    </tr>\n    <tr>\n      <th>1540</th>\n      <td>모바일 게임 마케팅 전략</td>\n      <td>유명 모바일 게임기업</td>\n      <td>NaN</td>\n      <td>https://kr.indeed.com/%EC%B1%84%EC%9A%A9%EB%B3...</td>\n    </tr>\n  </tbody>\n</table>\n<p>1541 rows × 4 columns</p>\n</div>"
     },
     "metadata": {},
     "execution_count": 19
    }
   ],
   "source": [
    "df"
   ]
  },
  {
   "cell_type": "code",
   "execution_count": null,
   "metadata": {},
   "outputs": [],
   "source": []
  }
 ],
 "metadata": {
  "kernelspec": {
   "display_name": "Python 3",
   "language": "python",
   "name": "python3"
  },
  "language_info": {
   "codemirror_mode": {
    "name": "ipython",
    "version": 3
   },
   "file_extension": ".py",
   "mimetype": "text/x-python",
   "name": "python",
   "nbconvert_exporter": "python",
   "pygments_lexer": "ipython3",
   "version": "3.8.3-final"
  }
 },
 "nbformat": 4,
 "nbformat_minor": 4
}